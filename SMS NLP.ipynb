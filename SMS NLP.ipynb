{
 "cells": [
  {
   "cell_type": "code",
   "execution_count": 1,
   "metadata": {
    "collapsed": false
   },
   "outputs": [
    {
     "data": {
      "text/html": [
       "<div>\n",
       "<style>\n",
       "    .dataframe thead tr:only-child th {\n",
       "        text-align: right;\n",
       "    }\n",
       "\n",
       "    .dataframe thead th {\n",
       "        text-align: left;\n",
       "    }\n",
       "\n",
       "    .dataframe tbody tr th {\n",
       "        vertical-align: top;\n",
       "    }\n",
       "</style>\n",
       "<table border=\"1\" class=\"dataframe\">\n",
       "  <thead>\n",
       "    <tr style=\"text-align: right;\">\n",
       "      <th></th>\n",
       "      <th>v1</th>\n",
       "      <th>v2</th>\n",
       "      <th>Unnamed: 2</th>\n",
       "      <th>Unnamed: 3</th>\n",
       "      <th>Unnamed: 4</th>\n",
       "    </tr>\n",
       "  </thead>\n",
       "  <tbody>\n",
       "    <tr>\n",
       "      <th>0</th>\n",
       "      <td>ham</td>\n",
       "      <td>Go until jurong point, crazy.. Available only ...</td>\n",
       "      <td>NaN</td>\n",
       "      <td>NaN</td>\n",
       "      <td>NaN</td>\n",
       "    </tr>\n",
       "    <tr>\n",
       "      <th>1</th>\n",
       "      <td>ham</td>\n",
       "      <td>Ok lar... Joking wif u oni...</td>\n",
       "      <td>NaN</td>\n",
       "      <td>NaN</td>\n",
       "      <td>NaN</td>\n",
       "    </tr>\n",
       "    <tr>\n",
       "      <th>2</th>\n",
       "      <td>spam</td>\n",
       "      <td>Free entry in 2 a wkly comp to win FA Cup fina...</td>\n",
       "      <td>NaN</td>\n",
       "      <td>NaN</td>\n",
       "      <td>NaN</td>\n",
       "    </tr>\n",
       "    <tr>\n",
       "      <th>3</th>\n",
       "      <td>ham</td>\n",
       "      <td>U dun say so early hor... U c already then say...</td>\n",
       "      <td>NaN</td>\n",
       "      <td>NaN</td>\n",
       "      <td>NaN</td>\n",
       "    </tr>\n",
       "    <tr>\n",
       "      <th>4</th>\n",
       "      <td>ham</td>\n",
       "      <td>Nah I don't think he goes to usf, he lives aro...</td>\n",
       "      <td>NaN</td>\n",
       "      <td>NaN</td>\n",
       "      <td>NaN</td>\n",
       "    </tr>\n",
       "  </tbody>\n",
       "</table>\n",
       "</div>"
      ],
      "text/plain": [
       "     v1                                                 v2 Unnamed: 2  \\\n",
       "0   ham  Go until jurong point, crazy.. Available only ...        NaN   \n",
       "1   ham                      Ok lar... Joking wif u oni...        NaN   \n",
       "2  spam  Free entry in 2 a wkly comp to win FA Cup fina...        NaN   \n",
       "3   ham  U dun say so early hor... U c already then say...        NaN   \n",
       "4   ham  Nah I don't think he goes to usf, he lives aro...        NaN   \n",
       "\n",
       "  Unnamed: 3 Unnamed: 4  \n",
       "0        NaN        NaN  \n",
       "1        NaN        NaN  \n",
       "2        NaN        NaN  \n",
       "3        NaN        NaN  \n",
       "4        NaN        NaN  "
      ]
     },
     "execution_count": 1,
     "metadata": {},
     "output_type": "execute_result"
    }
   ],
   "source": [
    "# SMS-text dataset from Kaggle\n",
    "\n",
    "import pandas as pd\n",
    "\n",
    "data = pd.read_csv(\"C:\\\\Users\\\\bryho\\\\HOML\\\\datasets\\\\spam.csv\", encoding=\"latin-1\")\n",
    "data.head()"
   ]
  },
  {
   "cell_type": "code",
   "execution_count": 2,
   "metadata": {
    "collapsed": false
   },
   "outputs": [
    {
     "name": "stdout",
     "output_type": "stream",
     "text": [
      "Go until jurong point, crazy.. Available only in bugis n great world la e buffet... Cine there got amore wat...\n"
     ]
    }
   ],
   "source": [
    "import numpy as np\n",
    "\n",
    "sms = np.array(data)\n",
    "print(sms[0][1])"
   ]
  },
  {
   "cell_type": "code",
   "execution_count": 3,
   "metadata": {
    "collapsed": false
   },
   "outputs": [
    {
     "name": "stdout",
     "output_type": "stream",
     "text": [
      "  label                                               text\n",
      "0   ham  Go until jurong point, crazy.. Available only ...\n",
      "1   ham                      Ok lar... Joking wif u oni...\n",
      "2  spam  Free entry in 2 a wkly comp to win FA Cup fina...\n",
      "3   ham  U dun say so early hor... U c already then say...\n",
      "4   ham  Nah I don't think he goes to usf, he lives aro...\n"
     ]
    }
   ],
   "source": [
    "# remove unused columns and formatting\n",
    "\n",
    "data = data[['v1','v2']]\n",
    "data = data.rename(columns={'v1':'label','v2':'text'})\n",
    "print(data.head())"
   ]
  },
  {
   "cell_type": "code",
   "execution_count": 4,
   "metadata": {
    "collapsed": false
   },
   "outputs": [
    {
     "name": "stdout",
     "output_type": "stream",
     "text": [
      "   label                                               text\n",
      "0      0  Go until jurong point, crazy.. Available only ...\n",
      "1      0                      Ok lar... Joking wif u oni...\n",
      "2      1  Free entry in 2 a wkly comp to win FA Cup fina...\n",
      "3      0  U dun say so early hor... U c already then say...\n",
      "4      0  Nah I don't think he goes to usf, he lives aro...\n"
     ]
    }
   ],
   "source": [
    "# encode labels for eval\n",
    "\n",
    "data['label'].replace(['ham','spam'],[0,1], inplace=True)\n",
    "print(data.head())"
   ]
  },
  {
   "cell_type": "code",
   "execution_count": 5,
   "metadata": {
    "collapsed": false
   },
   "outputs": [
    {
     "name": "stdout",
     "output_type": "stream",
     "text": [
      "0.13406317300789664\n"
     ]
    }
   ],
   "source": [
    "# 13.4% of sample is spam\n",
    "\n",
    "print(data['label'].mean())"
   ]
  },
  {
   "cell_type": "code",
   "execution_count": 5,
   "metadata": {
    "collapsed": false
   },
   "outputs": [
    {
     "name": "stdout",
     "output_type": "stream",
     "text": [
      "{'of', 'ain', 'been', 'my', 'again', 'needn', 'by', 'other', 'ours', 'won', 'once', 't', 'at', 'because', 'no', 'm', 'y', 'yours', 'through', 'doing', 'before', \"doesn't\", 'are', 'couldn', 'and', 'll', 'was', 'mustn', 'shouldn', \"you'll\", \"it's\", \"she's\", 'you', 'nor', 'he', 'can', 'when', 'same', \"aren't\", 'she', \"should've\", \"shan't\", 'here', 'its', 'wasn', \"wasn't\", 'weren', \"won't\", 'then', 'as', 'but', 'whom', 'above', 'hadn', 'were', \"you're\", 'am', 'a', \"isn't\", 'me', \"couldn't\", 'hasn', 'out', 'should', 'doesn', \"that'll\", 'our', 'until', 'from', 'any', 'each', 'why', 'just', 'hers', 'is', 'itself', 'isn', 'about', \"hadn't\", \"haven't\", 'had', 'd', 'the', 'so', 're', \"mustn't\", 'him', 'has', 'below', 'off', \"you'd\", 'haven', 'theirs', 'where', 'up', 'some', 'both', 'too', 'own', 'mightn', \"weren't\", 'yourselves', 'on', 'all', 'his', 'your', 'more', \"mightn't\", 'it', 'most', 'we', 'if', 'with', \"shouldn't\", 'ourselves', 'now', 'aren', 'over', 'they', 'i', 'did', 'her', 'being', 'be', 'down', 'myself', 'shan', 'an', 'those', 'themselves', 'or', 'after', \"don't\", 'for', \"hasn't\", \"needn't\", 'their', 'have', 'these', 'which', 'only', 'few', 'them', \"didn't\", 'do', 'this', 'between', 'wouldn', 'who', 'how', 'himself', \"wouldn't\", 'what', 'under', 'in', 'very', 'such', 'don', 'not', 'didn', 'o', 'does', 'herself', 'further', 'there', 'that', 'against', 'during', 'while', 'to', 'yourself', 'than', 'will', 've', 'ma', 's', \"you've\", 'into', 'having'}\n"
     ]
    }
   ],
   "source": [
    "from nltk.corpus import stopwords\n",
    "\n",
    "# prepare for processing\n",
    "stop_words = set(stopwords.words(\"english\"))\n",
    "print(stop_words)"
   ]
  },
  {
   "cell_type": "code",
   "execution_count": 6,
   "metadata": {
    "collapsed": false
   },
   "outputs": [],
   "source": [
    "# added additional stops after data exploration\n",
    "\n",
    "more_stops = ['.',',','-','...','!','?',\"n't\",':',';',\"'m\",'gt','lt',\"''\",')',')' \"'s\"]\n",
    "stop_words = list(stop_words)\n",
    "\n",
    "for i in more_stops:\n",
    "    stop_words.append(i)"
   ]
  },
  {
   "cell_type": "code",
   "execution_count": 7,
   "metadata": {
    "collapsed": false
   },
   "outputs": [],
   "source": [
    "import nltk\n",
    "\n",
    "# tokenize text strings as a list of words\n",
    "data['token_text'] = data.apply(lambda row: nltk.word_tokenize(row['text']), axis=1)"
   ]
  },
  {
   "cell_type": "code",
   "execution_count": 9,
   "metadata": {
    "collapsed": false
   },
   "outputs": [
    {
     "name": "stdout",
     "output_type": "stream",
     "text": [
      "sklearn version: 0.19.0\n"
     ]
    }
   ],
   "source": [
    "import sklearn\n",
    "\n",
    "print(\"sklearn version: {}\".format(sklearn.__version__))"
   ]
  },
  {
   "cell_type": "code",
   "execution_count": 8,
   "metadata": {
    "collapsed": false
   },
   "outputs": [
    {
     "name": "stdout",
     "output_type": "stream",
     "text": [
      "['Go', 'until', 'jurong', 'point', ',', 'crazy..', 'Available', 'only', 'in', 'bugis', 'n', 'great', 'world', 'la', 'e', 'buffet', '...', 'Cine', 'there', 'got', 'amore', 'wat', '...']\n"
     ]
    }
   ],
   "source": [
    "# check formatting\n",
    "print(data['token_text'][0])"
   ]
  },
  {
   "cell_type": "code",
   "execution_count": 8,
   "metadata": {
    "collapsed": false
   },
   "outputs": [
    {
     "name": "stdout",
     "output_type": "stream",
     "text": [
      "[('i', 1952), ('u', 1118), ('&', 916), ('call', 576), (\"'s\", 492), ('2', 485), ('get', 385), ('ur', 381), ('you', 340), ('#', 287), ('go', 276), ('free', 275), ('4', 268), ('know', 259), ('ok', 251), ('got', 249), ('like', 244), ('good', 239), (\"'ll\", 231), ('come', 227), ('time', 214), ('day', 194), ('want', 193), ('send', 191), ('love', 190), ('text', 189), ('no', 184), ('one', 175), ('going', 172), ('txt', 169), ('need', 165), ('how', 162), ('home', 160), ('sorry', 158), ('lor', 156), ('see', 156), ('still', 154), ('r', 153), ('back', 152), ('stop', 150), ('n', 148), ('do', 148), ('today', 145), ('if', 143), ('we', 143), ('reply', 142), ('but', 142), ('da', 140), ('mobile', 138), ('dont', 138), ('tell', 137), ('new', 136), ('later', 133), ('think', 132), ('so', 132), ('take', 131), ('hi', 131), ('just', 128), ('please', 128), ('phone', 126), ('what', 125), ('the', 123), ('my', 123), ('it', 122), ('ì_', 119), ('(', 117), ('week', 117), ('pls', 116), ('your', 116), ('night', 114), ('claim', 113), ('great', 112), ('well', 112), ('much', 112), ('and', 112), ('c', 111), ('oh', 110), ('hope', 109), ('dear', 108), ('na', 106), ('hey', 104), ('happy', 104), ('wat', 102), ('way', 102), ('make', 101), ('have', 99), ('give', 99), ('work', 97), ('this', 96), ('a', 95), ('now', 95), ('to', 93), ('wan', 93), ('prize', 92), ('say', 91), (\"'ve\", 91), ('1', 91), ('right', 91), ('number', 91), ('already', 90), ('are', 90), (\"'re\", 90), ('tomorrow', 89), ('ask', 88), ('said', 88), ('yeah', 87), ('can', 87), ('yes', 86), ('really', 86), ('amp', 86), ('k', 85), ('is', 83), ('message', 82), ('would', 81), ('e', 80), ('meet', 80), ('im', 80), ('3', 79), ('its', 79), ('last', 78), ('babe', 77), ('let', 76), ('cos', 76), ('msg', 75), ('cash', 74), ('miss', 74), ('lol', 74), ('thanks', 74), ('morning', 74), ('life', 74), ('that', 74), ('anything', 73), ('find', 72), ('every', 72), ('win', 71), ('sure', 71), ('pick', 71), ('also', 70), ('something', 69), ('nokia', 68), ('contact', 68), ('sent', 68), ('keep', 68), ('t', 67), ('urgent', 65), ('b', 65), ('could', 65), ('buy', 65), ('cant', 65), ('care', 65)]\n",
      "9803\n"
     ]
    }
   ],
   "source": [
    "from collections import Counter\n",
    "\n",
    "# accrue list of word counts\n",
    "words = []\n",
    "for i in data['token_text']:\n",
    "    words += i\n",
    "\n",
    "# lower case each word to avoid double counting\n",
    "words = [w.lower() for w in words if w not in stop_words]\n",
    "\n",
    "# dict of word counts for dataset\n",
    "word_counts = Counter(words)\n",
    "print(word_counts.most_common(150))\n",
    "print(len(set(words)))"
   ]
  },
  {
   "cell_type": "code",
   "execution_count": 9,
   "metadata": {
    "collapsed": true
   },
   "outputs": [],
   "source": [
    "# processing for part of speech\n",
    "tagged_words = nltk.pos_tag(words)\n",
    "\n",
    "# hard code pos label for extraction of semantic meaning\n",
    "def part_of_speech(tag):\n",
    "    pos = \"\"\n",
    "    if (word[1] == 'VB') | (word[1] == 'VBD') | (word[1] == 'VBG') | (word[1] == 'VBN') | (word[1] == 'VBP') | (word[1] == 'VBZ'):\n",
    "        pos = 'v'\n",
    "    elif (word[1] == 'RB') | (word[1] == 'RBR') | (word[1] == 'RBS') | (word[1] == 'WRB'):\n",
    "        pos = 'r'\n",
    "    elif (word[1] == 'JJ') | (word[1] == 'JJR') | (word[1] == 'JJS'):\n",
    "        pos = 'a'\n",
    "    else:\n",
    "        pos = 'n'\n",
    "    return pos"
   ]
  },
  {
   "cell_type": "code",
   "execution_count": 10,
   "metadata": {
    "collapsed": false
   },
   "outputs": [
    {
     "name": "stdout",
     "output_type": "stream",
     "text": [
      "[('i', 1952), ('u', 1181), ('&', 916), ('get', 692), ('call', 653), ('go', 552), (\"'s\", 492), ('2', 485), ('ur', 381), ('you', 340), ('come', 322), ('#', 287), ('know', 280), ('free', 275), ('do', 271), ('4', 268), ('be', 266), ('send', 261), ('good', 255), ('like', 254), ('ok', 251), ('want', 243), ('time', 242), ('day', 233), (\"'ll\", 231), ('say', 226), ('love', 217), ('text', 210), ('tell', 204), ('it', 201), ('think', 195), ('take', 187), ('no', 186), ('need', 185), ('one', 183), ('see', 182), ('make', 173), ('txt', 169), ('today', 164), ('how', 162), ('r', 160), ('home', 160), ('sorry', 158), ('stop', 157), ('reply', 156), ('lor', 156), ('still', 154), ('back', 152), ('c', 149), ('n', 148), ('mobile', 148), ('if', 143), ('we', 143), ('but', 142), ('phone', 141), ('da', 140), ('new', 139), ('dont', 138), ('a', 137), ('well', 136), ('please', 133), ('week', 132), ('so', 132), ('work', 132), ('ask', 132), ('later', 131), ('hi', 131), ('have', 128), ('just', 128), ('what', 125), ('give', 124), ('the', 123), ('my', 123), ('night', 120), ('miss', 119), ('ì_', 119), ('(', 117), ('pls', 116), ('your', 116), ('claim', 115), ('great', 114), ('try', 114), ('wait', 114), ('thing', 113), ('much', 112), ('and', 112), ('leave', 112), ('hope', 111), ('oh', 110), ('dear', 108), ('na', 106), ('message', 106), ('win', 105), ('happy', 105), ('hey', 104), ('meet', 104), ('number', 104), ('wat', 102), ('way', 102), ('late', 100)]\n",
      "8852\n"
     ]
    }
   ],
   "source": [
    "from nltk.stem import WordNetLemmatizer\n",
    "\n",
    "# standardize word frequency as function of pos\n",
    "lemmatizer = WordNetLemmatizer()\n",
    "\n",
    "lemmatized_words = []\n",
    "\n",
    "for word in tagged_words:\n",
    "    lemmatized_words.append(lemmatizer.lemmatize(word[0], pos=part_of_speech(word[1])))\n",
    "    \n",
    "lemma_counts = Counter(lemmatized_words)\n",
    "print(lemma_counts.most_common(100))\n",
    "print(len(set(lemmatized_words)))"
   ]
  },
  {
   "cell_type": "code",
   "execution_count": 11,
   "metadata": {
    "collapsed": false
   },
   "outputs": [
    {
     "name": "stdout",
     "output_type": "stream",
     "text": [
      "0\n",
      "8\n"
     ]
    }
   ],
   "source": [
    "# build vocab of 1,000 most common words\n",
    "vocabulary = {}\n",
    "\n",
    "# index vocabulary by word frequency\n",
    "index = 0\n",
    "for word in lemma_counts.most_common(1000):\n",
    "    vocabulary[word[0]] = index\n",
    "    index +=1\n",
    "    \n",
    "# validation check\n",
    "print(vocabulary['i'])\n",
    "print(vocabulary[\"ur\"])"
   ]
  },
  {
   "cell_type": "code",
   "execution_count": 12,
   "metadata": {
    "collapsed": false
   },
   "outputs": [],
   "source": [
    "from sklearn.model_selection import train_test_split\n",
    "from sklearn.feature_extraction.text import CountVectorizer\n",
    "\n",
    "# feed custom filter and vocabulary to vectorize text\n",
    "corpus = list(data['text'])\n",
    "vectorizer = CountVectorizer(stop_words=stop_words, vocabulary=vocabulary)\n",
    "X = vectorizer.transform(corpus)\n",
    "y = list(data['label'])\n",
    "X_train, X_test, y_train, y_test = train_test_split(X,y, test_size=0.2, random_state=0)"
   ]
  },
  {
   "cell_type": "code",
   "execution_count": 13,
   "metadata": {
    "collapsed": false
   },
   "outputs": [
    {
     "data": {
      "image/png": "[encoded data removed]",
      "text/plain": [
       "<matplotlib.figure.Figure at 0x2c6ab9bf278>"
      ]
     },
     "metadata": {},
     "output_type": "display_data"
    }
   ],
   "source": [
    "import matplotlib.pyplot as plt\n",
    "import seaborn as sns\n",
    "from sklearn import svm\n",
    "from sklearn.ensemble import RandomForestClassifier\n",
    "from sklearn.neighbors import KNeighborsClassifier\n",
    "from sklearn.naive_bayes import GaussianNB\n",
    "from sklearn.tree import DecisionTreeClassifier\n",
    "from sklearn.linear_model import LogisticRegression\n",
    "from sklearn.model_selection import cross_val_predict\n",
    "from sklearn import metrics\n",
    "\n",
    "\n",
    "# model training\n",
    "f_scores = []\n",
    "p_scores = []\n",
    "r_scores = []\n",
    "\n",
    "f,ax=plt.subplots(2,4,figsize=(13,7))\n",
    "pred = cross_val_predict(svm.SVC(kernel='rbf'),X_train.toarray(),y_train,cv=3)\n",
    "f_scores.append(metrics.f1_score(y_train, pred))\n",
    "p_scores.append(metrics.precision_score(y_train, pred))\n",
    "r_scores.append(metrics.recall_score(y_train, pred))\n",
    "sns.heatmap(metrics.confusion_matrix(y_train,pred),ax=ax[0,0],annot=True,fmt='2.0f')\n",
    "ax[0,0].set_title('Matrix for rbf-SVM')\n",
    "pred = cross_val_predict(svm.SVC(kernel='linear'),X_train.toarray(),y_train,cv=3)\n",
    "f_scores.append(metrics.f1_score(y_train, pred))\n",
    "p_scores.append(metrics.precision_score(y_train, pred))\n",
    "r_scores.append(metrics.recall_score(y_train, pred))\n",
    "sns.heatmap(metrics.confusion_matrix(y_train,pred),ax=ax[0,1],annot=True,fmt='2.0f')\n",
    "ax[0,1].set_title('Matrix for Linear-SVM')\n",
    "pred = cross_val_predict(KNeighborsClassifier(),X_train.toarray(),y_train,cv=3)\n",
    "f_scores.append(metrics.f1_score(y_train, pred))\n",
    "p_scores.append(metrics.precision_score(y_train, pred))\n",
    "r_scores.append(metrics.recall_score(y_train, pred))\n",
    "sns.heatmap(metrics.confusion_matrix(y_train,pred),ax=ax[0,2],annot=True,fmt='2.0f')\n",
    "ax[0,2].set_title('Matrix for KNN')\n",
    "pred = cross_val_predict(RandomForestClassifier(),X_train.toarray(),y_train,cv=3)\n",
    "f_scores.append(metrics.f1_score(y_train, pred))\n",
    "p_scores.append(metrics.precision_score(y_train, pred))\n",
    "r_scores.append(metrics.recall_score(y_train, pred))\n",
    "sns.heatmap(metrics.confusion_matrix(y_train,pred),ax=ax[0,3],annot=True,fmt='2.0f')\n",
    "ax[0,3].set_title('Matrix for Random-Forests')\n",
    "pred = cross_val_predict(LogisticRegression(),X_train.toarray(),y_train,cv=3)\n",
    "f_scores.append(metrics.f1_score(y_train, pred))\n",
    "p_scores.append(metrics.precision_score(y_train, pred))\n",
    "r_scores.append(metrics.recall_score(y_train, pred))\n",
    "sns.heatmap(metrics.confusion_matrix(y_train,pred),ax=ax[1,0],annot=True,fmt='2.0f')\n",
    "ax[1,0].set_title('Matrix for Logistic Regression')\n",
    "pred = cross_val_predict(DecisionTreeClassifier(),X_train.toarray(),y_train,cv=3)\n",
    "f_scores.append(metrics.f1_score(y_train, pred))\n",
    "p_scores.append(metrics.precision_score(y_train, pred))\n",
    "r_scores.append(metrics.recall_score(y_train, pred))\n",
    "sns.heatmap(metrics.confusion_matrix(y_train,pred),ax=ax[1,1],annot=True,fmt='2.0f')\n",
    "ax[1,1].set_title('Matrix for Decision Tree')\n",
    "pred = cross_val_predict(GaussianNB(),X_train.toarray(),y_train,cv=3)\n",
    "f_scores.append(metrics.f1_score(y_train, pred))\n",
    "p_scores.append(metrics.precision_score(y_train, pred))\n",
    "r_scores.append(metrics.recall_score(y_train, pred))\n",
    "sns.heatmap(metrics.confusion_matrix(y_train,pred),ax=ax[1,2],annot=True,fmt='2.0f')\n",
    "ax[1,2].set_title('Matrix for Naive Bayes')\n",
    "plt.subplots_adjust(hspace=0.2,wspace=0.2)\n",
    "plt.show()"
   ]
  },
  {
   "cell_type": "code",
   "execution_count": 14,
   "metadata": {
    "collapsed": false
   },
   "outputs": [
    {
     "data": {
      "text/html": [
       "<div>\n",
       "<style>\n",
       "    .dataframe thead tr:only-child th {\n",
       "        text-align: right;\n",
       "    }\n",
       "\n",
       "    .dataframe thead th {\n",
       "        text-align: left;\n",
       "    }\n",
       "\n",
       "    .dataframe tbody tr th {\n",
       "        vertical-align: top;\n",
       "    }\n",
       "</style>\n",
       "<table border=\"1\" class=\"dataframe\">\n",
       "  <thead>\n",
       "    <tr style=\"text-align: right;\">\n",
       "      <th></th>\n",
       "      <th>Models</th>\n",
       "      <th>F1</th>\n",
       "      <th>Precision</th>\n",
       "      <th>Recall</th>\n",
       "    </tr>\n",
       "  </thead>\n",
       "  <tbody>\n",
       "    <tr>\n",
       "      <th>0</th>\n",
       "      <td>RBF Svm</td>\n",
       "      <td>0.033841</td>\n",
       "      <td>1.000000</td>\n",
       "      <td>0.017212</td>\n",
       "    </tr>\n",
       "    <tr>\n",
       "      <th>1</th>\n",
       "      <td>Linear Svm</td>\n",
       "      <td>0.914132</td>\n",
       "      <td>0.951583</td>\n",
       "      <td>0.879518</td>\n",
       "    </tr>\n",
       "    <tr>\n",
       "      <th>2</th>\n",
       "      <td>Logistic Regression</td>\n",
       "      <td>0.540201</td>\n",
       "      <td>1.000000</td>\n",
       "      <td>0.370052</td>\n",
       "    </tr>\n",
       "    <tr>\n",
       "      <th>3</th>\n",
       "      <td>KNN</td>\n",
       "      <td>0.880000</td>\n",
       "      <td>0.957490</td>\n",
       "      <td>0.814114</td>\n",
       "    </tr>\n",
       "    <tr>\n",
       "      <th>4</th>\n",
       "      <td>Decision Tree</td>\n",
       "      <td>0.911602</td>\n",
       "      <td>0.980198</td>\n",
       "      <td>0.851979</td>\n",
       "    </tr>\n",
       "    <tr>\n",
       "      <th>5</th>\n",
       "      <td>Naive Bayes</td>\n",
       "      <td>0.847826</td>\n",
       "      <td>0.894837</td>\n",
       "      <td>0.805508</td>\n",
       "    </tr>\n",
       "    <tr>\n",
       "      <th>6</th>\n",
       "      <td>Random Forest</td>\n",
       "      <td>0.519031</td>\n",
       "      <td>0.364078</td>\n",
       "      <td>0.903614</td>\n",
       "    </tr>\n",
       "  </tbody>\n",
       "</table>\n",
       "</div>"
      ],
      "text/plain": [
       "                Models        F1  Precision    Recall\n",
       "0              RBF Svm  0.033841   1.000000  0.017212\n",
       "1           Linear Svm  0.914132   0.951583  0.879518\n",
       "2  Logistic Regression  0.540201   1.000000  0.370052\n",
       "3                  KNN  0.880000   0.957490  0.814114\n",
       "4        Decision Tree  0.911602   0.980198  0.851979\n",
       "5          Naive Bayes  0.847826   0.894837  0.805508\n",
       "6        Random Forest  0.519031   0.364078  0.903614"
      ]
     },
     "execution_count": 14,
     "metadata": {},
     "output_type": "execute_result"
    }
   ],
   "source": [
    "classifiers=['RBF Svm','Linear Svm','Logistic Regression','KNN','Decision Tree','Naive Bayes','Random Forest']\n",
    "f_ones = pd.DataFrame({'Models': classifiers ,'F1': f_scores, 'Precision': p_scores, 'Recall': r_scores})\n",
    "f_ones = f_ones[['Models', 'F1', 'Precision', 'Recall']]\n",
    "f_ones"
   ]
  },
  {
   "cell_type": "code",
   "execution_count": 17,
   "metadata": {
    "collapsed": false
   },
   "outputs": [
    {
     "data": {
      "image/png": "[encoded data removed]",
      "text/plain": [
       "<matplotlib.figure.Figure at 0x2c6ad455160>"
      ]
     },
     "metadata": {},
     "output_type": "display_data"
    }
   ],
   "source": [
    "plt.style.use(\"seaborn\")\n",
    "\n",
    "f,ax=plt.subplots(figsize=(12,5))\n",
    "sns.barplot('Models', 'F1', data=f_ones, ci=None)\n",
    "ax.set_title('F1 Scores')\n",
    "plt.show()"
   ]
  },
  {
   "cell_type": "code",
   "execution_count": 38,
   "metadata": {
    "collapsed": true
   },
   "outputs": [],
   "source": [
    "def precision_recall_threshold_plot(precisions, recalls, thresholds, pos=\"center left\"):\n",
    "    plt.plot(thresholds, precisions[:-1], \"b--\", label=\"Precision\")\n",
    "    plt.plot(thresholds, recalls[:-1], \"g-\", label=\"Recall\")\n",
    "    plt.xlabel(\"Threshold\")\n",
    "    plt.legend(loc=pos)\n",
    "    plt.ylim([0,1])"
   ]
  },
  {
   "cell_type": "code",
   "execution_count": 23,
   "metadata": {
    "collapsed": false
   },
   "outputs": [
    {
     "name": "stderr",
     "output_type": "stream",
     "text": [
      "C:\\Users\\bryho\\Anaconda3\\lib\\site-packages\\matplotlib\\legend.py:326: UserWarning: Unrecognized location \"center-left\". Falling back on \"best\"; valid locations are\n",
      "\tbest\n",
      "\tupper right\n",
      "\tupper left\n",
      "\tlower left\n",
      "\tlower right\n",
      "\tright\n",
      "\tcenter left\n",
      "\tcenter right\n",
      "\tlower center\n",
      "\tupper center\n",
      "\tcenter\n",
      "\n",
      "  six.iterkeys(self.codes))))\n"
     ]
    },
    {
     "data": {
      "image/png": "[encoded data removed]",
      "text/plain": [
       "<matplotlib.figure.Figure at 0x2c6ace092e8>"
      ]
     },
     "metadata": {},
     "output_type": "display_data"
    }
   ],
   "source": [
    "#observed high threshold for some algorithms, leading to high precision with low recall\n",
    "#next step is plot precision-recall curve for lower threshold value to maintain high precision and raise recall\n",
    "\n",
    "rbf_scores = cross_val_predict(svm.SVC(kernel='rbf'),X_train.toarray(),y_train,cv=3,method=\"decision_function\")\n",
    "rbf_scores = rbf_scores[:,1:]\n",
    "precisions, recalls, thresholds = metrics.precision_recall_curve(y_train, rbf_scores)\n",
    "\n",
    "precision_recall_threshold_plot(precisions, recalls, thresholds)\n",
    "plt.show()"
   ]
  },
  {
   "cell_type": "code",
   "execution_count": 29,
   "metadata": {
    "collapsed": false
   },
   "outputs": [
    {
     "name": "stdout",
     "output_type": "stream",
     "text": [
      "Adjusted RBF SVM f1-score: 87.30%\n",
      "Precision: 89.51%\n",
      "Recall: 85.20%\n"
     ]
    }
   ],
   "source": [
    "rbf_pred = (rbf_scores > -0.85)\n",
    "print('Adjusted RBF SVM f1-score: {:.2f}%'.format(100 * metrics.f1_score(y_train, rbf_pred)))\n",
    "print(\"Precision: {:.2f}%\".format(100 * metrics.precision_score(y_train, rbf_pred)))\n",
    "print(\"Recall: {:.2f}%\".format(100 * metrics.recall_score(y_train, rbf_pred)))"
   ]
  },
  {
   "cell_type": "code",
   "execution_count": 39,
   "metadata": {
    "collapsed": false
   },
   "outputs": [
    {
     "data": {
      "image/png": "[encoded data removed]",
      "text/plain": [
       "<matplotlib.figure.Figure at 0x2c6ac81e0f0>"
      ]
     },
     "metadata": {},
     "output_type": "display_data"
    }
   ],
   "source": [
    "lr_scores = cross_val_predict(LogisticRegression(),X_train.toarray(),y_train,cv=3,method=\"decision_function\")\n",
    "lr_scores = lr_scores[:,1:]\n",
    "precisions, recalls, thresholds = metrics.precision_recall_curve(y_train, lr_scores)\n",
    "\n",
    "precision_recall_threshold_plot(precisions, recalls, thresholds, pos=\"center right\")\n",
    "plt.show()"
   ]
  },
  {
   "cell_type": "code",
   "execution_count": 42,
   "metadata": {
    "collapsed": false
   },
   "outputs": [
    {
     "name": "stdout",
     "output_type": "stream",
     "text": [
      "Adjusted LR f1-score: 90.77%\n",
      "Precision: 91.00%\n",
      "Recall: 90.53%\n"
     ]
    }
   ],
   "source": [
    "lr_pred = (lr_scores > -1.4)\n",
    "print('Adjusted LR f1-score: {:.2f}%'.format(100 * metrics.f1_score(y_train, lr_pred)))\n",
    "print(\"Precision: {:.2f}%\".format(100 * metrics.precision_score(y_train, lr_pred)))\n",
    "print(\"Recall: {:.2f}%\".format(100 * metrics.recall_score(y_train, lr_pred)))"
   ]
  },
  {
   "cell_type": "code",
   "execution_count": 46,
   "metadata": {
    "collapsed": false
   },
   "outputs": [
    {
     "name": "stdout",
     "output_type": "stream",
     "text": [
      "{'C': 0.25, 'gamma': 0.001, 'kernel': 'linear'}\n"
     ]
    }
   ],
   "source": [
    "#SVM hyperparameter tuning\n",
    "\n",
    "from sklearn.model_selection import GridSearchCV\n",
    "\n",
    "Cs = [0.01 ,0.1, 0.25, 0.5]\n",
    "gammas = [0.001, 0.005, 0.01, 0.05, 0.1, 0.5]\n",
    "kernels = [\"rbf\", \"linear\"]\n",
    "param_grid = {'C': Cs, 'gamma': gammas, 'kernel':kernels}\n",
    "grid_search = GridSearchCV(svm.SVC(kernel=\"linear\"), param_grid, cv=3)\n",
    "grid_search.fit(X_train,y_train)\n",
    "print(grid_search.best_params_)"
   ]
  },
  {
   "cell_type": "code",
   "execution_count": 63,
   "metadata": {
    "collapsed": false
   },
   "outputs": [
    {
     "name": "stdout",
     "output_type": "stream",
     "text": [
      "Linear SVM f1-score: 91.72%\n",
      "Precision: 97.30%\n",
      "Recall: 86.75%\n"
     ]
    }
   ],
   "source": [
    "#linear svm test results\n",
    "\n",
    "classifiers=['Linear Svm','Decision Tree','KNN', 'Naive Bayes', 'Logistic Regression']\n",
    "f_scores = []\n",
    "\n",
    "model = svm.SVC(kernel=\"linear\", C=0.25, gamma=0.001)\n",
    "model.fit(X_train, y_train)\n",
    "pred_svm = model.predict(X_test)\n",
    "f_scores.append(metrics.f1_score(y_test, pred_svm))\n",
    "print('Linear SVM f1-score: {:.2f}%'.format(100 * metrics.f1_score(y_test, pred_svm)))\n",
    "print(\"Precision: {:.2f}%\".format(100 * metrics.precision_score(y_test, pred_svm)))\n",
    "print(\"Recall: {:.2f}%\".format(100 * metrics.recall_score(y_test, pred_svm)))"
   ]
  },
  {
   "cell_type": "code",
   "execution_count": 52,
   "metadata": {
    "collapsed": false
   },
   "outputs": [
    {
     "name": "stdout",
     "output_type": "stream",
     "text": [
      "{'max_depth': 25}\n"
     ]
    }
   ],
   "source": [
    "#Decision Tree hyperparameter tuning\n",
    "model = DecisionTreeClassifier()\n",
    "depth = [2, 4, 6, 8, 10, 12, 15, 20, 25, 30, 40, 50]\n",
    "param_grid = {\"max_depth\": depth}\n",
    "grid_search = GridSearchCV(model, param_grid, cv=3)\n",
    "grid_search.fit(X,y)\n",
    "print(grid_search.best_params_)"
   ]
  },
  {
   "cell_type": "code",
   "execution_count": 64,
   "metadata": {
    "collapsed": false
   },
   "outputs": [
    {
     "name": "stdout",
     "output_type": "stream",
     "text": [
      "Decision Tree f1-score: 85.90%\n",
      "Precision: 94.24%\n",
      "Recall: 78.92%\n"
     ]
    }
   ],
   "source": [
    "#decision tree test results\n",
    "\n",
    "model = DecisionTreeClassifier(max_depth=25)\n",
    "model.fit(X_train, y_train)\n",
    "pred_dt = model.predict(X_test)\n",
    "f_scores.append(metrics.f1_score(y_test, pred_dt))\n",
    "print('Decision Tree f1-score: {:.2f}%'.format(100 * metrics.f1_score(y_test, pred_dt)))\n",
    "print(\"Precision: {:.2f}%\".format(100 * metrics.precision_score(y_test, pred_dt)))\n",
    "print(\"Recall: {:.2f}%\".format(100 * metrics.recall_score(y_test, pred_dt)))"
   ]
  },
  {
   "cell_type": "code",
   "execution_count": 54,
   "metadata": {
    "collapsed": false
   },
   "outputs": [
    {
     "name": "stdout",
     "output_type": "stream",
     "text": [
      "{'n_neighbors': 1}\n"
     ]
    }
   ],
   "source": [
    "#knn hyperparameter tuning\n",
    "model = KNeighborsClassifier()\n",
    "neighbors = list(range(1,21,1))\n",
    "param_grid = {\"n_neighbors\": neighbors}\n",
    "grid_search = GridSearchCV(model, param_grid, cv=3)\n",
    "grid_search.fit(X_train,y_train)\n",
    "print(grid_search.best_params_)"
   ]
  },
  {
   "cell_type": "code",
   "execution_count": 65,
   "metadata": {
    "collapsed": false
   },
   "outputs": [
    {
     "name": "stdout",
     "output_type": "stream",
     "text": [
      "KNeighbors f1-score: 82.11%\n",
      "Precision: 98.32%\n",
      "Recall: 70.48%\n"
     ]
    }
   ],
   "source": [
    "#knn test results\n",
    "\n",
    "model = KNeighborsClassifier(n_neighbors=1)\n",
    "model.fit(X_train, y_train)\n",
    "pred_knn = model.predict(X_test)\n",
    "f_scores.append(metrics.f1_score(y_test, pred_knn))\n",
    "print('KNeighbors f1-score: {:.2f}%'.format(100 * metrics.f1_score(y_test, pred_knn)))\n",
    "print(\"Precision: {:.2f}%\".format(100 * metrics.precision_score(y_test, pred_knn)))\n",
    "print(\"Recall: {:.2f}%\".format(100 * metrics.recall_score(y_test, pred_knn)))"
   ]
  },
  {
   "cell_type": "code",
   "execution_count": 66,
   "metadata": {
    "collapsed": false
   },
   "outputs": [
    {
     "name": "stdout",
     "output_type": "stream",
     "text": [
      "GaussianNB f1-score: 51.83%\n",
      "Precision: 35.78%\n",
      "Recall: 93.98%\n"
     ]
    }
   ],
   "source": [
    "#naive bayes test results\n",
    "\n",
    "model = GaussianNB()\n",
    "model.fit(X_train.toarray(), y_train)\n",
    "pred_nb = model.predict(X_test.toarray())\n",
    "f_scores.append(metrics.f1_score(y_test, pred_nb))\n",
    "print('GaussianNB f1-score: {:.2f}%'.format(100 * metrics.f1_score(y_test, pred_nb)))\n",
    "print(\"Precision: {:.2f}%\".format(100 * metrics.precision_score(y_test, pred_nb)))\n",
    "print(\"Recall: {:.2f}%\".format(100 * metrics.recall_score(y_test, pred_nb)))"
   ]
  },
  {
   "cell_type": "code",
   "execution_count": 67,
   "metadata": {
    "collapsed": false
   },
   "outputs": [
    {
     "name": "stdout",
     "output_type": "stream",
     "text": [
      "Log Reg f1-score: 85.63%\n",
      "Precision: 83.43%\n",
      "Recall: 87.95%\n"
     ]
    }
   ],
   "source": [
    "#logistic regression test results\n",
    "\n",
    "lr_scores = cross_val_predict(LogisticRegression(),X_test.toarray(),y_test,cv=3,method=\"decision_function\")\n",
    "lr_scores = lr_scores[:,1:]\n",
    "lr_pred = (lr_scores > -1.4)\n",
    "f_scores.append(metrics.f1_score(y_test, lr_pred))\n",
    "print('Log Reg f1-score: {:.2f}%'.format(100 * metrics.f1_score(y_test, lr_pred)))\n",
    "print(\"Precision: {:.2f}%\".format(100 * metrics.precision_score(y_test, lr_pred)))\n",
    "print(\"Recall: {:.2f}%\".format(100 * metrics.recall_score(y_test, lr_pred)))"
   ]
  },
  {
   "cell_type": "code",
   "execution_count": 68,
   "metadata": {
    "collapsed": false
   },
   "outputs": [
    {
     "data": {
      "text/html": [
       "<div>\n",
       "<style>\n",
       "    .dataframe thead tr:only-child th {\n",
       "        text-align: right;\n",
       "    }\n",
       "\n",
       "    .dataframe thead th {\n",
       "        text-align: left;\n",
       "    }\n",
       "\n",
       "    .dataframe tbody tr th {\n",
       "        vertical-align: top;\n",
       "    }\n",
       "</style>\n",
       "<table border=\"1\" class=\"dataframe\">\n",
       "  <thead>\n",
       "    <tr style=\"text-align: right;\">\n",
       "      <th></th>\n",
       "      <th>F</th>\n",
       "      <th>Models</th>\n",
       "    </tr>\n",
       "  </thead>\n",
       "  <tbody>\n",
       "    <tr>\n",
       "      <th>0</th>\n",
       "      <td>0.917197</td>\n",
       "      <td>Linear Svm</td>\n",
       "    </tr>\n",
       "    <tr>\n",
       "      <th>1</th>\n",
       "      <td>0.859016</td>\n",
       "      <td>Decision Tree</td>\n",
       "    </tr>\n",
       "    <tr>\n",
       "      <th>2</th>\n",
       "      <td>0.821053</td>\n",
       "      <td>KNN</td>\n",
       "    </tr>\n",
       "    <tr>\n",
       "      <th>3</th>\n",
       "      <td>0.518272</td>\n",
       "      <td>Naive Bayes</td>\n",
       "    </tr>\n",
       "    <tr>\n",
       "      <th>4</th>\n",
       "      <td>0.856305</td>\n",
       "      <td>Logistic Regression</td>\n",
       "    </tr>\n",
       "  </tbody>\n",
       "</table>\n",
       "</div>"
      ],
      "text/plain": [
       "          F               Models\n",
       "0  0.917197           Linear Svm\n",
       "1  0.859016        Decision Tree\n",
       "2  0.821053                  KNN\n",
       "3  0.518272          Naive Bayes\n",
       "4  0.856305  Logistic Regression"
      ]
     },
     "execution_count": 68,
     "metadata": {},
     "output_type": "execute_result"
    }
   ],
   "source": [
    "f_ones = pd.DataFrame({'Models': classifiers ,'F': f_scores})\n",
    "f_ones"
   ]
  },
  {
   "cell_type": "code",
   "execution_count": null,
   "metadata": {
    "collapsed": true
   },
   "outputs": [],
   "source": []
  }
 ],
 "metadata": {
  "kernelspec": {
   "display_name": "Python 3",
   "language": "python",
   "name": "python3"
  },
  "language_info": {
   "codemirror_mode": {
    "name": "ipython",
    "version": 3
   },
   "file_extension": ".py",
   "mimetype": "text/x-python",
   "name": "python",
   "nbconvert_exporter": "python",
   "pygments_lexer": "ipython3",
   "version": "3.6.0"
  }
 },
 "nbformat": 4,
 "nbformat_minor": 2
}
